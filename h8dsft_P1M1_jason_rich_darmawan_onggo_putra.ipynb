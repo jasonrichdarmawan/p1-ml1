{
 "cells": [
  {
   "cell_type": "markdown",
   "metadata": {},
   "source": [
    "# 1 - Perkenalan\n",
    "  > Bab pengenalan harus diisi dengan identitas, gambaran besar dataset yang digunakan, dan _objective_ yang ingin dicapai.\n",
    "\n",
    "## 1 - Identity\n",
    "\n",
    "  Nama : Jason Rich Darmawan Onggo Putra\n",
    "  \n",
    "  Batch : 016 RMT\n",
    "\n",
    "## 2 - Dataset Overview\n",
    "\n",
    "## 3 - Objective"
   ]
  },
  {
   "cell_type": "markdown",
   "metadata": {},
   "source": [
    "# 2 - Import Libraries\n",
    "  > _Cell_ pertama pada _notebook_ **harus berisi dan hanya berisi** semua _library_ yang digunakan dalam _project_."
   ]
  },
  {
   "cell_type": "markdown",
   "metadata": {},
   "source": [
    "# 3 - Data Loading\n",
    "  > Bagian ini berisi proses penyiapan data sebelum dilakukan eksplorasi data lebih lanjut. Proses Data Loading dapat berupa memberi nama baru untuk setiap kolom, mengecek ukuran dataset, dll."
   ]
  },
  {
   "cell_type": "markdown",
   "metadata": {},
   "source": [
    "# 4 - Exploratory Data Analysis (EDA)\n",
    "  > Bagian ini berisi eksplorasi data pada dataset diatas dengan menggunakan query, grouping, visualisasi sederhana, dan lain sebagainya.\n",
    "\n",
    "  Task:\n",
    "  1. insight"
   ]
  },
  {
   "cell_type": "markdown",
   "metadata": {},
   "source": [
    "# 5 - Data Preprocessing\n",
    "  > Bagian ini berisi proses penyiapan data untuk proses pelatihan model, seperti pembagian data menjadi train-dev-test, transformasi data (normalisasi, encoding, dll.), dan proses-proses lain yang dibutuhkan."
   ]
  },
  {
   "cell_type": "markdown",
   "metadata": {},
   "source": [
    "# 6 - Model Definition\n",
    "  > Bagian ini berisi cell untuk mendefinisikan model. Jelaskan alasan menggunakan suatu algoritma/model, hyperparameter yang dipakai, jenis penggunaan metrics yang dipakai, dan hal lain yang terkait dengan model.\n",
    "\n",
    "## 1 - Logistic Regression\n",
    "\n",
    "## 2 - SVM\n",
    "\n",
    "## 3 - Decision Tree\n",
    "\n",
    "## 4 - KKNN\n",
    "\n",
    "## 5 - Naive Bayes\n",
    "\n",
    "## 6 - Other Algorithm"
   ]
  },
  {
   "cell_type": "markdown",
   "metadata": {},
   "source": [
    "# 7 - Model Training\n",
    "  > Cell pada bagian ini hanya berisi code untuk melatih model dan output yang dihasilkan. Lakukan beberapa kali proses training dengan hyperparameter yang berbeda untuk melihat hasil yang didapatkan. Analisis dan narasikan hasil ini pada bagian Model Evaluation.\n",
    "\n",
    "## 1 - Default Parameter\n",
    "\n",
    "### 1 - Logistic Regression\n",
    "\n",
    "### 2 - SVM\n",
    "\n",
    "### 3 - Decision Tree\n",
    "\n",
    "### 4 - KKNN\n",
    "\n",
    "### 5 - Naive Bayes\n",
    "\n",
    "### 6 - Other Algorithm\n",
    "\n",
    "## 2 - Model Tuning\n",
    "\n",
    "  Goal: To find the best parameters for the algorithm.\n",
    "\n",
    "### 1 - `sklearn.model_selection.GridSearchCV` (based on best algorithm with default parameters)\n",
    "\n",
    "  Goal: To find the best parameters for the algorithm.\n",
    "\n",
    "  Task: \n",
    "  1. compare the metrics between algorithm with default parameters and best parameters.\n",
    "\n",
    "#### 1 - Logistic Regression\n",
    "\n",
    "#### 2 - SVM\n",
    "\n",
    "#### 3 - Decision Tree\n",
    "\n",
    "#### 4 - KKNN\n",
    "\n",
    "#### 5 - Naive Bayes\n",
    "\n",
    "#### 6 - Other Algorithm"
   ]
  },
  {
   "cell_type": "markdown",
   "metadata": {},
   "source": [
    "# 8 - Model Evaluation\n",
    "  > Pada bagian ini, dilakukan evaluasi model yang harus menunjukkan bagaimana performa model berdasarkan metrics yang dipilih. Hal ini harus dibuktikan dengan visualisasi tren performa dan/atau tingkat kesalahan model. **Lakukan analisis terkait dengan hasil pada model dan tuliskan hasil analisisnya**.\n",
    "\n",
    "## 1 - `sklearn.model_selection.cross_validate` and `sklearn.metrics`\n",
    "\n",
    "  Goal: To validate if the metrics aree consistent and not due to data leakage.\n",
    "\n",
    "  Metrics used are: `sklearn.metrics.precision_score`, `sklearn.metrics.recall_score`, `sklearn.metrics.f1_score` with parameter 'average=None' and `sklearn.metrics.accuracy_score`.\n",
    "\n",
    "  Task:\n",
    "  1. metrics interpretation.\n",
    "  2. weakness/strength of the model.\n",
    "  3. improvement.\n",
    "\n",
    "### 1 - Default Parameters\n",
    "\n",
    "#### 1 - Logistic Regression\n",
    "\n",
    "#### 2 - SVM\n",
    "\n",
    "#### 3 - Decision Tree\n",
    "\n",
    "#### 4 - KKNN\n",
    "\n",
    "#### 5 - Naive Bayes\n",
    "\n",
    "#### 6 - Other Algorithm\n",
    "\n",
    "### 2 - (Algorithm) with Tuned Parameters\n",
    "\n",
    "  Task:\n",
    "  1. Only best algorithm gets evaluated."
   ]
  },
  {
   "cell_type": "markdown",
   "metadata": {},
   "source": [
    "# 8 - Model Inference\n",
    "  > Model yang sudah dilatih akan dicoba pada data yang bukan termasuk ke dalam train-set ataupun test-set. Data ini harus dalam format yang asli, bukan data yang sudah di-scaled.\n",
    "\n",
    "## 1 - (Algorithm) with Tuned Parameters\n",
    "\n",
    "  Task:\n",
    "  1. Only best algorithm gets deployed."
   ]
  },
  {
   "cell_type": "markdown",
   "metadata": {},
   "source": [
    "# 10 - Pengambilan Kesimpulan\n",
    "  > Pada bagian terakhir ini, **harus berisi** kesimpulan yang mencerminkan hasil yang didapat dengan _objective_ yang sudah ditulis di bagian pengenalan."
   ]
  },
  {
   "cell_type": "markdown",
   "metadata": {},
   "source": [
    "# Conceptual Problems\n",
    "\n",
    "1. Apakah fungsi parameter `criterion` pada Decision Tree? Jelaskan salah satu criterion yang kalian pahami!\n",
    "2. Apakah fungsi dari `pruning` pada Tree model?\n",
    "3. Bagaimana cara memilih `K` yang optimal pada KNN?\n",
    "4. Jelaskan apa yang kalian ketahui tentang `Cross Validation`!\n",
    "5. Jelaskan apa yang kalian ketahui tentang `Accuracy, Precision, Recall, F1 Score`!"
   ]
  }
 ],
 "metadata": {
  "kernelspec": {
   "display_name": "Python 3.8.9 64-bit",
   "language": "python",
   "name": "python3"
  },
  "language_info": {
   "name": "python",
   "version": "3.8.9"
  },
  "orig_nbformat": 4,
  "vscode": {
   "interpreter": {
    "hash": "31f2aee4e71d21fbe5cf8b01ff0e069b9275f58929596ceb00d14d90e3e16cd6"
   }
  }
 },
 "nbformat": 4,
 "nbformat_minor": 2
}
