{
 "cells": [
  {
   "cell_type": "markdown",
   "metadata": {},
   "source": [
    "not done.\n",
    "\n",
    "the model can't predict never seen data."
   ]
  },
  {
   "cell_type": "code",
   "execution_count": 3,
   "metadata": {},
   "outputs": [],
   "source": [
    "import numpy as np\n",
    "from scipy.stats import skew\n",
    "\n",
    "from sklearn.preprocessing import PolynomialFeatures, MinMaxScaler\n",
    "\n",
    "from sklearn.linear_model import LogisticRegression\n",
    "import sklearn.metrics as metrics"
   ]
  },
  {
   "cell_type": "code",
   "execution_count": 2,
   "metadata": {},
   "outputs": [
    {
     "name": "stdout",
     "output_type": "stream",
     "text": [
      "[0.]\n"
     ]
    }
   ],
   "source": [
    "# expected = 0\n",
    "print(skew(a= [[-1],\n",
    "               [0],\n",
    "               [1]],\n",
    "           axis=0))"
   ]
  },
  {
   "cell_type": "code",
   "execution_count": 7,
   "metadata": {},
   "outputs": [
    {
     "name": "stdout",
     "output_type": "stream",
     "text": [
      "y_true [0 0 0 1 1 1]\n",
      "y_pred [1 1 1 1 1 1]\n",
      "accuracy score 0.5\n",
      "recall score [0. 1.]\n",
      "precision score [0.  0.5]\n",
      "f1 score [0.         0.66666667]\n"
     ]
    }
   ],
   "source": [
    "#              X1    y\n",
    "X = np.array([\n",
    "              [0], # 0\n",
    "              [0], # 0\n",
    "              [0], # 0\n",
    "              [1], # 1\n",
    "              [1], # 1\n",
    "              [1], # 1\n",
    "              [2], # 0\n",
    "              [2], # 0\n",
    "              [2], # 0\n",
    "              [3], # 1\n",
    "              [3], # 1\n",
    "              [3], # 1\n",
    "              [4], # 0\n",
    "              [4], # 0\n",
    "              [4], # 0\n",
    "              [5], # 1\n",
    "              [5], # 1\n",
    "              [5], # 1\n",
    "              [6], # 0\n",
    "              [6], # 0\n",
    "              [6], # 0\n",
    "              [7], # 1\n",
    "              [7], # 1\n",
    "              [7], # 1\n",
    "             ]\n",
    "            )\n",
    "\n",
    "# skew is 0, can use MinMaxScaler\n",
    "# print(skew(a= X,\n",
    "#            axis=0))\n",
    "\n",
    "# change to degree=2 to get lower recall_score\n",
    "polyer = PolynomialFeatures(degree=3).fit(X= X)\n",
    "\n",
    "X_polyed = polyer.transform(X= X)\n",
    "\n",
    "scaler = MinMaxScaler().fit(X= X_polyed)\n",
    "\n",
    "X_scaled = scaler.transform(X= X_polyed)\n",
    "\n",
    "#             X1\n",
    "y = [\n",
    "     0,0,0, # 0\n",
    "     1,1,1, # 1\n",
    "     0,0,0, # 2\n",
    "     1,1,1, # 3\n",
    "     0,0,0, # 4\n",
    "     1,1,1, # 5\n",
    "     0,0,0, # 6\n",
    "     1,1,1, # 7\n",
    "    ]\n",
    "\n",
    "clf = LogisticRegression()\n",
    "clf.fit(X= X_scaled, y= y)\n",
    "\n",
    "# seen data\n",
    "# X_test = np.array([[4],\n",
    "#                    [4],\n",
    "#                    [4],\n",
    "#                    [5],\n",
    "#                    [5],\n",
    "#                    [5]])\n",
    "\n",
    "# never seen data\n",
    "X_test = np.array([[8],\n",
    "                   [8],\n",
    "                   [8],\n",
    "                   [9],\n",
    "                   [9],\n",
    "                   [9]])\n",
    "\n",
    "y_test = np.array([0,\n",
    "                   0,\n",
    "                   0,\n",
    "                   1,\n",
    "                   1,\n",
    "                   1])\n",
    "\n",
    "X_test_polyed = polyer.transform(X= X_test)\n",
    "\n",
    "X_test_scaled = scaler.transform(X= X_test_polyed)\n",
    "\n",
    "y_test_pred = clf.predict(X= X_test_scaled)\n",
    "\n",
    "print(\"y_true\", y_test)\n",
    "print(\"y_pred\", y_test_pred)\n",
    "\n",
    "# average=None is important.\n",
    "# otherwise you get average='binary', pos_label=1\n",
    "print(\"accuracy score\", metrics.accuracy_score(y_true=y_test, y_pred=y_test_pred))\n",
    "print(\"recall score\", metrics.recall_score(y_true=y_test, y_pred=y_test_pred, average=None))\n",
    "print(\"precision score\", metrics.precision_score(y_true=y_test, y_pred=y_test_pred, average=None, zero_division=0))\n",
    "print(\"f1 score\", metrics.f1_score(y_true=y_test, y_pred=y_test_pred, average=None))\n"
   ]
  }
 ],
 "metadata": {
  "kernelspec": {
   "display_name": "Python 3.10.8 64-bit",
   "language": "python",
   "name": "python3"
  },
  "language_info": {
   "codemirror_mode": {
    "name": "ipython",
    "version": 3
   },
   "file_extension": ".py",
   "mimetype": "text/x-python",
   "name": "python",
   "nbconvert_exporter": "python",
   "pygments_lexer": "ipython3",
   "version": "3.10.8"
  },
  "orig_nbformat": 4,
  "vscode": {
   "interpreter": {
    "hash": "aee8b7b246df8f9039afb4144a1f6fd8d2ca17a180786b69acc140d282b71a49"
   }
  }
 },
 "nbformat": 4,
 "nbformat_minor": 2
}
